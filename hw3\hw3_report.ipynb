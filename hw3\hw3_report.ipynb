{
  "nbformat": 4,
  "nbformat_minor": 0,
  "metadata": {
    "colab": {
      "provenance": [],
      "include_colab_link": true
    },
    "kernelspec": {
      "name": "python3",
      "display_name": "Python 3"
    },
    "language_info": {
      "name": "python"
    }
  },
  "cells": [
    {
      "cell_type": "markdown",
      "metadata": {
        "id": "view-in-github",
        "colab_type": "text"
      },
      "source": [
        "<a href=\"https://colab.research.google.com/github/NickReeder/Network_Sciences_S23/blob/main/hw3%5Chw3_report.ipynb\" target=\"_parent\"><img src=\"https://colab.research.google.com/assets/colab-badge.svg\" alt=\"Open In Colab\"/></a>"
      ]
    },
    {
      "cell_type": "markdown",
      "source": [
        "All Notebooks must start with code which allows opening the file in Google collab. For example the following code, is responsible for the `Open in Colab` blue button.\n",
        "```\n",
        "[![Open in Colab](https://colab.research.google.com/assets/colab-badge.svg)](https://colab.research.google.com/github/anwala/teaching-network-science/blob/main/spring-2023/week-1/data_340_02_hw3_report.ipynb)\n",
        "```\n",
        "[![Open in Colab](https://colab.research.google.com/assets/colab-badge.svg)](https://colab.research.google.com/drive/11usZu77_dPlzH2rI2zornhWKJhz0JJJp?usp=sharing)\n",
        "\n",
        "Ensure that you include the correct file path of your notebook file. Study the location of my [notebook file on Github](https://github.com/anwala/teaching-network-science/blob/main/spring-2023/week-1/data_340_02_hw2_report.ipynb) and above path (`github/anwala/teaching-network-science/blob/main/spring-2023/week-1/data_340_02_hw3_report.ipynb`) I used to produce the blue button. "
      ],
      "metadata": {
        "id": "xTdmMKYmwWOV"
      }
    },
    {
      "cell_type": "markdown",
      "source": [
        "# HW3 - Hubs\n",
        "### Nick Reeder\n",
        "### Data 340-02, Spring 2023\n",
        "### Thursday, March 9 2023\n"
      ],
      "metadata": {
        "id": "cnaJOC71wJvb"
      }
    },
    {
      "cell_type": "markdown",
      "source": [
        "# Q1\n",
        "\n",
        "Draw the OpenFlighs US flight network graph. Ensure the graph is legible and pretty:\n",
        "\n",
        "- Node labels are visible\n",
        "\n",
        "- Edge crossings are minimized\n"
      ],
      "metadata": {
        "id": "N2VNck0DylKe"
      }
    },
    {
      "cell_type": "code",
      "source": [
        "from google.colab import drive\n",
        "drive.mount('/content/drive')"
      ],
      "metadata": {
        "colab": {
          "base_uri": "https://localhost:8080/"
        },
        "id": "yfeGGFqNsIHz",
        "outputId": "7a6d3edc-eecb-4fde-f2fa-b792f96e2db0"
      },
      "execution_count": null,
      "outputs": [
        {
          "output_type": "stream",
          "name": "stdout",
          "text": [
            "Mounted at /content/drive\n"
          ]
        }
      ]
    },
    {
      "cell_type": "code",
      "source": [
        "import networkx as nx\n",
        "import numpy as np\n",
        "import pandas as pd\n",
        "%matplotlib inline"
      ],
      "metadata": {
        "id": "7Yb2WeT11Pcz"
      },
      "execution_count": null,
      "outputs": []
    },
    {
      "cell_type": "code",
      "source": [
        "\n",
        "\n",
        "G = nx.read_graphml('openflights_usa.graphml.gz')\n",
        "\n",
        "nx.write_gexf(G, 'C:\\\\Users\\\\Nick\\\\Dropbox\\\\PC\\\\Desktop\\\\Network_Sciences\\\\USA_OpenFlights.gexf')\n"
      ],
      "metadata": {
        "id": "zUIyNz3DHtkM"
      },
      "execution_count": null,
      "outputs": []
    },
    {
      "cell_type": "markdown",
      "source": [
        "![\\label{fig:USA Open Flight Map}](https://drive.google.com/file/d/1giWQ2x5LEf_fWUj7KqBYtmUU9TuEslvk/view?usp=share_link)\n",
        "\n",
        "[Link to total image](https://drive.google.com/file/d/1giWQ2x5LEf_fWUj7KqBYtmUU9TuEslvk/view?usp=share_link)\n",
        "\n",
        "[Link to Continental USA image](https://drive.google.com/file/d/1jm0ILkC5lYWsa7yYkjejyGbdHJhH1vpu/view?usp=share_link)\n",
        "\n",
        "[Link to Alaska image](https://drive.google.com/file/d/1lxztzRbslmoHCxnhtvZGdq2sm7l1_KD1/view?usp=share_link)\n",
        "\n",
        "[Link to Hawaii image](https://drive.google.com/file/d/1Zea65E29dayMK6Jhwj0qA_BUjAwJExe-/view?usp=share_link) "
      ],
      "metadata": {
        "id": "WNOLGi2brYJc"
      }
    },
    {
      "cell_type": "markdown",
      "source": [
        "## Discussion\n",
        "I found using Gephi to at first be challenging, but eventually intuitive. I bounced between the USA map and using ForceAtlas, but decided to use the USA Geoplot as it allowed for a more intuitive read of the graph. After setthing the Geoplot I used the NoOverlap to spread some nodes out. Because there were so many nodes and edges, I found minimizing edge crossing to be rather challening. This was another advantage of the USA Geoplot as even if the edge got covered, one could fairly easily see its direction and intuit the start/end points. \n",
        "\n",
        "I also manually dragged the Hawaii and Alaska portions closer as it it maintained the idea of the map while making it more readable overall."
      ],
      "metadata": {
        "id": "N04_CLv-FPnD"
      }
    },
    {
      "cell_type": "markdown",
      "metadata": {
        "id": "Tru6nTDMyxOH"
      },
      "source": [
        "Q2 (1 point x 6)\n",
        "- What is the average number of routes served by each airport in this network?\n",
        "\n",
        "- What are the top five airports in terms of number of routes?\n",
        "\n",
        "- How many airports in this network serve only a single route?\n",
        "\n",
        "- Which airport has the highest closeness centrality?\n",
        "\n",
        "- Which airport has the highest betweenness centrality?\n",
        "\n",
        "- Compute the heterogeneity parameter of this network."
      ]
    },
    {
      "cell_type": "code",
      "source": [
        "\n",
        "df = pd.DataFrame(G.degree(), columns = ['Airport', 'Degree'])\n",
        "df['Closeness_centrality'] = nx.closeness_centrality(G).values()\n",
        "df['Betweenness_centrality'] = nx.betweenness_centrality(G).values()\n",
        "df.sort_values(\"Degree\", ascending = False, inplace = True)\n",
        "\n",
        "\n",
        "print(\"Average number of routes served by each airport is\", df[\"Degree\"].mean())\n",
        "\n",
        "print(\"Number of airports with only 1 route:\", str(len([df.iloc[i,0] for i in range(0,len(df)) if df.iloc[i,1] == 1])))\n",
        "\n",
        "print(\"Top 5 airports in temrs of number of routs are:\", str([df.iloc[i,0] for i in range(0,5)])[1:-1])\n",
        "\n",
        "print(\"Airport with the highest closeness centrality:\",  df.sort_values(\"Closeness_centrality\", ascending = False).iloc[0,0])\n",
        "\n",
        "print(\"Airport with the highest betweenness centrality:\",  df.sort_values(\"Betweenness_centrality\", ascending = False).iloc[0,0])\n",
        "\n",
        "print(\"Heterogenity paramater is:\", sum((df['Degree'])**2)/len(df) / (df[\"Degree\"].mean())**2)\n",
        "\n"
      ],
      "metadata": {
        "id": "w8QeuwBuwdi-",
        "colab": {
          "base_uri": "https://localhost:8080/"
        },
        "outputId": "840b8753-852b-4d38-bc16-3364beaf4616"
      },
      "execution_count": null,
      "outputs": [
        {
          "output_type": "stream",
          "name": "stdout",
          "text": [
            "Average number of routes served by each airport is 10.186813186813186\n",
            "Number of airports with only 1 route: 156\n",
            "Top 5 airports in temrs of number of routs are: 'ATL', 'ORD', 'DEN', 'DFW', 'MSP'\n",
            "Airport with the highest closeness centrality: DEN\n",
            "Airport with the highest betweenness centrality: ANC\n",
            "Heterogenity paramater is: 5.347494770144302\n"
          ]
        }
      ]
    },
    {
      "cell_type": "markdown",
      "source": [
        "\n",
        "## Discussion\n",
        "In the begining I had a lot of trouble with Network X and struggled to find documentation on it. I eventually figured out the funcions from one of the example notebooks provided, but had already used pandas for all but the heterogenity paramaeter. I am surprised at how low this is given that there are some nodes with exceptionally high degrees such as ATL and many nodes with only degree 1. That said I do not have a good frame of reference for these numbers so 5.3 could be higher than I am giving it credit for.\n",
        "\n",
        "I also found pandas useful for looking at the network elements wholistically and seeing different features of it. \n",
        "\n",
        "# References\n",
        "\n",
        "*Every report must list the references that you consulted while completing the assignment. If you consulted a webpage, you must include the URL.*\n",
        "\n",
        "* Pandas documentation, https://pandas.pydata.org/docs/>\n"
      ],
      "metadata": {
        "id": "-Xc7MfWvxW-B"
      }
    },
    {
      "cell_type": "code",
      "source": [],
      "metadata": {
        "id": "8eLIZ5rVvh4_"
      },
      "execution_count": null,
      "outputs": []
    }
  ]
}