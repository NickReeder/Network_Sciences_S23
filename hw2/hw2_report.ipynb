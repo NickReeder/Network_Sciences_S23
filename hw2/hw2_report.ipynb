{
  "nbformat": 4,
  "nbformat_minor": 0,
  "metadata": {
    "colab": {
      "provenance": [],
      "include_colab_link": true
    },
    "kernelspec": {
      "name": "python3",
      "display_name": "Python 3"
    },
    "language_info": {
      "name": "python"
    }
  },
  "cells": [
    {
      "cell_type": "markdown",
      "metadata": {
        "id": "view-in-github",
        "colab_type": "text"
      },
      "source": [
        "<a href=\"https://colab.research.google.com/github/NickReeder/Network_Sciences_S23/blob/main/hw2/hw2_report.ipynb\" target=\"_parent\"><img src=\"https://colab.research.google.com/assets/colab-badge.svg\" alt=\"Open In Colab\"/></a>"
      ]
    },
    {
      "cell_type": "markdown",
      "source": [
        "All Notebooks must start with code which allows opening the file in Google collab. For example the following code, is responsible for the `Open in Colab` blue button.\n",
        "```\n",
        "[![Open in Colab](https://colab.research.google.com/assets/colab-badge.svg)](https://colab.research.google.com/github/anwala/teaching-network-science/blob/main/spring-2023/week-1/data_340_02_report_template.ipynb)\n",
        "```\n",
        "[![Open in Colab](https://colab.research.google.com/assets/colab-badge.svg)](https://colab.research.google.com/github/anwala/teaching-network-science/blob/main/spring-2023/week-1/data_340_02_report_template.ipynb)\n",
        "\n",
        "Ensure that you include the correct file path of your notebook file. Study the location of my [notebook file on Github](https://github.com/anwala/teaching-network-science/blob/main/spring-2023/week-1/data_340_02_report_template.ipynb) and above path (`github/anwala/teaching-network-science/blob/main/spring-2023/week-1/data_340_02_report_template.ipynb`) I used to produce the blue button. "
      ],
      "metadata": {
        "id": "xTdmMKYmwWOV"
      }
    },
    {
      "cell_type": "markdown",
      "source": [
        "# HW2 - Small Worlds\n",
        "### Nick Reeder\n",
        "### Data 340-02, Spring 2023\n ",
        "### Thursday, February 23, 2023\n"
      ],
      "metadata": {
        "id": "cnaJOC71wJvb"
      }
    },
    {
      "cell_type": "markdown",
      "source": [
        "# Q1\n",
        "\n",
        "Go through the tutorial on Small worlds.\n",
        "\n",
        "Perform exercises 1 -- 3\n",
        "\n",
        "## Answer\n"
      ],
      "metadata": {
        "id": "N2VNck0DylKe"
      }
    },
    {
      "cell_type": "code",
      "source": [
        "import networkx as nx\n",
        "%matplotlib inline\n",
        "\n",
        "G = nx.read_graphml('openflights_usa.graphml.gz')"
      ],
      "metadata": {
        "id": "zUIyNz3DHtkM"
      },
      "execution_count": null,
      "outputs": []
    },
    {
      "cell_type": "markdown",
      "metadata": {
        "id": "Tru6nTDMyxOH"
      },
      "source": [
        "# EXERCISE 1\n",
        "\n",
        "Is there a direct flight between Indianapolis and Fairbanks, Alaska (FAI)? A direct flight is one with no intermediate stops."
      ]
    },
    {
      "cell_type": "code",
      "execution_count": null,
      "metadata": {
        "id": "tnY4_71LyxOH",
        "colab": {
          "base_uri": "https://localhost:8080/"
        },
        "outputId": "56e081ee-c50a-4290-fd1d-635c7d89b75d"
      },
      "outputs": [
        {
          "output_type": "execute_result",
          "data": {
            "text/plain": [
              "False"
            ]
          },
          "metadata": {},
          "execution_count": 18
        }
      ],
      "source": [
        "'FAI' in G.neighbors('IND')\n",
        "#There is no direct flight to FAI "
      ]
    },
    {
      "cell_type": "markdown",
      "metadata": {
        "id": "CDxG21EMyxOI"
      },
      "source": [
        "# EXERCISE 2\n",
        "\n",
        "If I wanted to fly from Indianapolis to Fairbanks, Alaska what would be an itinerary with the fewest number of flights?"
      ]
    },
    {
      "cell_type": "code",
      "execution_count": null,
      "metadata": {
        "id": "blY7KW2jyxOI",
        "colab": {
          "base_uri": "https://localhost:8080/"
        },
        "outputId": "52566d82-b545-4d9e-d470-aeb3edcf94c8"
      },
      "outputs": [
        {
          "output_type": "execute_result",
          "data": {
            "text/plain": [
              "(['IND', 'BOS', 'SEA', 'FAI'],)"
            ]
          },
          "metadata": {},
          "execution_count": 8
        }
      ],
      "source": [
        "nx.shortest_path(G, 'IND', 'FAI')\n",
        "#IND -> BOS -> SEA -> FAI, 3 flgihts. "
      ]
    },
    {
      "cell_type": "markdown",
      "metadata": {
        "id": "9CcT-aYzyxOI"
      },
      "source": [
        "# EXERCISE 3\n",
        "\n",
        "Is it possible to travel from any airport in the US to any other airport in the US, possibly using connecting flights? In other words, does there exist a path in the network between every possible pair of airports?"
      ]
    },
    {
      "cell_type": "code",
      "execution_count": null,
      "metadata": {
        "collapsed": true,
        "id": "TlG-Il41yxOI",
        "colab": {
          "base_uri": "https://localhost:8080/"
        },
        "outputId": "4fee3117-8d8d-4bbd-ecb8-662f875831ff"
      },
      "outputs": [
        {
          "output_type": "execute_result",
          "data": {
            "text/plain": [
              "False"
            ]
          },
          "metadata": {},
          "execution_count": 15
        }
      ],
      "source": [
        "nx.is_connected(G)\n",
        "#No it is not possible as this is not a fully connected Network \n"
      ]
    },
    {
      "cell_type": "markdown",
      "source": [
        "## Discussion\n",
        "\n",
        "I was suprised to find that this was not a connected network. After looking a little deeper I found that there were 3 distinct connected components  \n",
        "\n",
        "# Q2\n",
        "\n",
        "What is the central idea behind the notion of \"six degrees of separation\"? \n",
        "\n",
        "a. Social networks have high clustering coefficients\n",
        "\n",
        "b. Social networks are sparse\n",
        "\n",
        "c. Social networks have many high-degree nodes\n",
        "\n",
        "d. Social networks have small average path lengths\n",
        "\n",
        "Why?\n",
        "\n",
        "## Answer\n",
        "d. Social networks have a small average path lengths. \n",
        "\n",
        "It is often quite easy to find a path from to seemingly unconnected nodes. This path is also typically fairly short. \n",
        "\n",
        "## Discussion\n",
        "A good example of this is the connection we found in class from any member of data 340-02 to Joe Biden with the connection to the Michigan governor.\n",
        "\n",
        "# Q3\n",
        "Use The Oracle of Bacon to measure the shortest-path distance in the co-star network among at least 10 pairs of obscure actors and actresses as you can think of. Plot a histogram showing the distribution of the shortest-path lengths, and also estimate the average path length based on your sample.\n",
        "\n",
        "## Answer\n",
        "Bella Ramsey -> Tobias Menzies: 2\n",
        "\n",
        "John Hannah -> Nick Offerman: 2\n",
        "\n",
        "Micheal york -> Kam Fong: 3\n",
        "\n",
        "Rudy Pankow -> William Katt: 2\n",
        "\n",
        "Norman Reedus -> Tyrone Power: 3\n",
        "\n",
        "Danial Brühl -> Gong Yoo: 3\n",
        "\n",
        "Volker Schlöndorff -> Brendan Gleeson: 4\n",
        "\n",
        "Buba Weiler -> Logan Paul: 3\n",
        "\n",
        "Shah Rukh Khan -> Sam Riley: 3\n",
        "\n",
        "Patton Oswalt -> Christoph Maria Herbst: 3\n",
        "\n",
        "Christen Mooney -> Mark Duplass: 3\n",
        "\n",
        "Desiree Akhavan -> William squire: 4\n"
      ],
      "metadata": {
        "id": "CL4_WDbOzkGK"
      }
    },
    {
      "cell_type": "code",
      "source": [
        "from matplotlib import pyplot as plt\n",
        "import numpy as np\n",
        "\n",
        "results = [2,2,3,2,3,3,4,3,3,3,3,4]\n",
        "\n",
        "plt.hist(results, bins = np.arange(6) - 0.5)\n",
        "plt.xlabel(\"Path Length\")\n",
        "plt.ylabel(\"Frequency\")\n",
        "plt.xticks([0,1,2,3,4,5,6])\n",
        " \n",
        "# Show plot\n",
        "plt.show()"
      ],
      "metadata": {
        "colab": {
          "base_uri": "https://localhost:8080/",
          "height": 279
        },
        "id": "oGm_ZJ9RvgNd",
        "outputId": "40be037d-2d0b-49ad-e89c-2750a683a4e5"
      },
      "execution_count": null,
      "outputs": [
        {
          "output_type": "display_data",
          "data": {
            "text/plain": [
              "<Figure size 432x288 with 1 Axes>"
            ],
            "image/png": "[encoded data removed]"
          },
          "metadata": {
            "needs_background": "light"
          }
        }
      ]
    },
    {
      "cell_type": "markdown",
      "source": [
        "\n",
        "## Discussion\n",
        "This was very interesting, I got some ideas for actors from my house mates (one of which is German and the other watches lots of old fims) to try and find long paths and we could not make it past 4. \n",
        "\n",
        "# References\n",
        "\n",
        "*Every report must list the references that you consulted while completing the assignment. If you consulted a webpage, you must include the URL.*\n",
        "\n",
        "* Insert Reference 1, <https://www.geeksforgeeks.org/plotting-histogram-in-python-using-matplotlib/>\n"
      ],
      "metadata": {
        "id": "-Xc7MfWvxW-B"
      }
    }
  ]
}
