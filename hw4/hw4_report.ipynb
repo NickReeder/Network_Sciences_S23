{
  "nbformat": 4,
  "nbformat_minor": 0,
  "metadata": {
    "colab": {
      "provenance": [],
      "include_colab_link": true
    },
    "kernelspec": {
      "name": "python3",
      "display_name": "Python 3"
    },
    "language_info": {
      "name": "python"
    }
  },
  "cells": [
    {
      "cell_type": "markdown",
      "metadata": {
        "id": "view-in-github",
        "colab_type": "text"
      },
      "source": [
        "<a href=\"https://colab.research.google.com/github/NickReeder/Network_Sciences_S23/blob/main/hw4/hw4_report.ipynb\" target=\"_parent\"><img src=\"https://colab.research.google.com/assets/colab-badge.svg\" alt=\"Open In Colab\"/></a>"
      ]
    },
    {
      "cell_type": "markdown",
      "source": [
        "All Notebooks must start with code which allows opening the file in Google collab. For example the following code, is responsible for the `Open in Colab` blue button.\n",
        "```\n",
        "[![Open in Colab](https://colab.research.google.com/assets/colab-badge.svg)](https://colab.research.google.com/github/anwala/teaching-network-science/blob/main/spring-2023/week-1/data_340_02_report_template.ipynb)\n",
        "```\n",
        "[![Open in Colab](https://colab.research.google.com/assets/colab-badge.svg)](https://colab.research.google.com/github/anwala/teaching-network-science/blob/main/spring-2023/week-1/data_340_02_report_template.ipynb)\n",
        "\n",
        "Ensure that you include the correct file path of your notebook file. Study the location of my [notebook file on Github](https://github.com/anwala/teaching-network-science/blob/main/spring-2023/week-1/data_340_02_report_template.ipynb) and above path (`github/anwala/teaching-network-science/blob/main/spring-2023/week-1/data_340_02_report_template.ipynb`) I used to produce the blue button. "
      ],
      "metadata": {
        "id": "xTdmMKYmwWOV"
      }
    },
    {
      "cell_type": "markdown",
      "source": [
        "# HW4 - Directions and Weights\n",
        "### Nick Reeder\n",
        "### Data-340-02\n",
        "### 4/8\n"
      ],
      "metadata": {
        "id": "cnaJOC71wJvb"
      }
    },
    {
      "cell_type": "code",
      "source": [
        "import networkx as nx\n",
        "!pip install --upgrade twarc\n",
        "from twarc.client2 import Twarc2\n",
        "from twarc.expansions import flatten\n",
        "from pprint import pprint\n",
        "import gzip\n",
        "import json\n",
        "import pandas as pd\n",
        "from google.colab import drive\n",
        "drive.mount('/content/drive')"
      ],
      "metadata": {
        "id": "ssKLAnKCQ9Ve",
        "colab": {
          "base_uri": "https://localhost:8080/"
        },
        "outputId": "cc5c8e55-4a40-4357-c1b5-c75b3bde4b9d"
      },
      "execution_count": 2,
      "outputs": [
        {
          "output_type": "stream",
          "name": "stdout",
          "text": [
            "Looking in indexes: https://pypi.org/simple, https://us-python.pkg.dev/colab-wheels/public/simple/\n",
            "Collecting twarc\n",
            "  Downloading twarc-2.14.0-py3-none-any.whl (60 kB)\n",
            "\u001b[2K     \u001b[90m━━━━━━━━━━━━━━━━━━━━━━━━━━━━━━━━━━━━━━━━\u001b[0m \u001b[32m60.2/60.2 KB\u001b[0m \u001b[31m1.9 MB/s\u001b[0m eta \u001b[36m0:00:00\u001b[0m\n",
            "\u001b[?25hRequirement already satisfied: python-dateutil>=2.8 in /usr/local/lib/python3.9/dist-packages (from twarc) (2.8.2)\n",
            "Collecting click-config-file>=0.6\n",
            "  Downloading click_config_file-0.6.0-py2.py3-none-any.whl (6.0 kB)\n",
            "Requirement already satisfied: humanize>=3.9 in /usr/local/lib/python3.9/dist-packages (from twarc) (4.6.0)\n",
            "Requirement already satisfied: requests-oauthlib>=1.3 in /usr/local/lib/python3.9/dist-packages (from twarc) (1.3.1)\n",
            "Requirement already satisfied: tqdm>=4.62 in /usr/local/lib/python3.9/dist-packages (from twarc) (4.65.0)\n",
            "Collecting click-plugins>=1\n",
            "  Downloading click_plugins-1.1.1-py2.py3-none-any.whl (7.5 kB)\n",
            "Requirement already satisfied: click<9,>=7 in /usr/local/lib/python3.9/dist-packages (from twarc) (8.1.3)\n",
            "Collecting configobj>=5.0.6\n",
            "  Downloading configobj-5.0.8-py2.py3-none-any.whl (36 kB)\n",
            "Requirement already satisfied: six>=1.5 in /usr/local/lib/python3.9/dist-packages (from python-dateutil>=2.8->twarc) (1.16.0)\n",
            "Requirement already satisfied: oauthlib>=3.0.0 in /usr/local/lib/python3.9/dist-packages (from requests-oauthlib>=1.3->twarc) (3.2.2)\n",
            "Requirement already satisfied: requests>=2.0.0 in /usr/local/lib/python3.9/dist-packages (from requests-oauthlib>=1.3->twarc) (2.27.1)\n",
            "Requirement already satisfied: certifi>=2017.4.17 in /usr/local/lib/python3.9/dist-packages (from requests>=2.0.0->requests-oauthlib>=1.3->twarc) (2022.12.7)\n",
            "Requirement already satisfied: idna<4,>=2.5 in /usr/local/lib/python3.9/dist-packages (from requests>=2.0.0->requests-oauthlib>=1.3->twarc) (3.4)\n",
            "Requirement already satisfied: urllib3<1.27,>=1.21.1 in /usr/local/lib/python3.9/dist-packages (from requests>=2.0.0->requests-oauthlib>=1.3->twarc) (1.26.15)\n",
            "Requirement already satisfied: charset-normalizer~=2.0.0 in /usr/local/lib/python3.9/dist-packages (from requests>=2.0.0->requests-oauthlib>=1.3->twarc) (2.0.12)\n",
            "Installing collected packages: configobj, click-plugins, click-config-file, twarc\n",
            "Successfully installed click-config-file-0.6.0 click-plugins-1.1.1 configobj-5.0.8 twarc-2.14.0\n",
            "Mounted at /content/drive\n"
          ]
        }
      ]
    },
    {
      "cell_type": "code",
      "source": [
        "def max_degree_dir(G, out = True, top_2 = False):\n",
        "  max_node = list(G.nodes)[0]\n",
        "  if out:\n",
        "    for node in G.nodes():\n",
        "      if G.out_degree(node) > G.out_degree(max_node):\n",
        "        prev_max = max_node\n",
        "        max_node = node\n",
        "    if top_2:\n",
        "      return(max_node, G.out_degree(max_node), prev_max, G.out_degree(prev_max))\n",
        "    return(max_node, G.out_degree(max_node))\n",
        "\n",
        "  for node in G.nodes():\n",
        "    if G.in_degree(node) > G.in_degree(max_node):\n",
        "      prev_max = max_node\n",
        "      max_node = node\n",
        "  if top_2:\n",
        "    return(max_node, G.in_degree(max_node), prev_max, G.in_degree(prev_max))\n",
        "  return(max_node, G.in_degree(max_node))\n"
      ],
      "metadata": {
        "id": "tOxj3iJgfNkH"
      },
      "execution_count": 3,
      "outputs": []
    },
    {
      "cell_type": "code",
      "source": [
        "D = nx.DiGraph()\n",
        "\n",
        "with gzip.open('repealthe19th.jsonl.gz', 'r') as file:\n",
        "  for tweet in file: \n",
        "    tweet = json.loads(tweet)\n",
        "    if 'retweeted_status_user_id_str' in tweet.keys():\n",
        "      originial_user = tweet['retweeted_status'].get('user_screen_name')\n",
        "      rt_user = tweet['user_screen_name']\n",
        "      if originial_user != rt_user:\n",
        "        if D.has_edge(originial_user, rt_user):\n",
        "          D.edges[originial_user, rt_user]['weight'] += 1\n",
        "        else:\n",
        "          D.add_edge(originial_user, rt_user, weight=1)\n",
        "      "
      ],
      "metadata": {
        "id": "gMfPsTR0zJrJ"
      },
      "execution_count": 5,
      "outputs": []
    },
    {
      "cell_type": "code",
      "source": [
        "nx.write_gexf(D, 'C:\\\\Users\\\\Nick\\\\Dropbox\\\\PC\\\\Desktop\\\\Network_Sciences\\\\repeal_the_19t.gexf')\n"
      ],
      "metadata": {
        "id": "SvGjeXS4VZUi"
      },
      "execution_count": null,
      "outputs": []
    },
    {
      "cell_type": "markdown",
      "source": [
        "# Q1\n",
        "\n",
        "Draw the #RepealThe19th retweet network. Ensure the graph is legible and pretty:\n",
        "\n",
        "Edge crossings are minimized"
      ],
      "metadata": {
        "id": "N2VNck0DylKe"
      }
    },
    {
      "cell_type": "markdown",
      "source": [
        "![\\label{fig:reapeal-the-19th-graph}](https://github.com/NickReeder/data-340-02/blob/main/hw4/repeal_19_V1.pdf)\n",
        "\n",
        "[Link to overall graph](https://github.com/NickReeder/data-340-02/blob/main/hw4/repeal_19_V1.pdf)\n",
        "\n",
        "![\\label{fig:reapeal-the-19th-main-component}](https://github.com/NickReeder/data-340-02/blob/710ecef96fdcb5e45d147122dc6b479ed8df8350/hw4/Repeal_19_main_componenet.png)\n",
        "\n",
        "[Link to main component](https://github.com/NickReeder/data-340-02/blob/710ecef96fdcb5e45d147122dc6b479ed8df8350/hw4/Repeal_19_main_componenet.png)\n",
        "\n",
        "Note: Usernames are only shown for nodes with >= 100 out strength\n",
        "\n",
        "## Discussion\n",
        "I struggled some to make the graph legible. Showing the larger picture with the complete 'orbital structure' sacraficed too much detail of the main component and zooming in on the component. Both of these are important details as they outline to two ways the conversation happened. Many small interactions over just a few accounts and a ball of a high volume of discourse. This lead me to show two images, one of the overall and one with just the main component. I also chose to only display the names of nodes with over 100 out strength. Showing all the names created too much clutter and this allowed the most important nodes to have extra detail. Structure was made with a combination of Force Atlas 2, Yifan Hu Proportional, and No Overlap.\n",
        "\n"
      ],
      "metadata": {
        "id": "fQSP4aXg7lRQ"
      }
    },
    {
      "cell_type": "markdown",
      "source": [
        "\n",
        "\n",
        "# Q2\n",
        "1. How many nodes are in the retweet network?\n",
        "\n",
        "2. How many links are in the retweet network?\n",
        "\n",
        "3. What is the screen name of the node with highest out-strength in the network? What is its out-strength?\n",
        "4. What is the screen name of the node with the second-highest out-strength in the network?\n",
        "5. What is the screen name of the node with highest in-strength in the network? What is its in-strength?\n",
        "6. Describe what the out-strength and in-strength values of these accounts tell you about their online behavior.\n",
        "## Answer\n",
        "\n",
        "\n",
        "1. 14862\n",
        "2. 14795\n",
        "3. Samandjunk, 900\n",
        "4. m_kaish_esq, 394\n",
        "5. JenTromans, 48\n",
        "6. The out-strength and in-strength of these nodes indicates how much and in what way these accounts intereacted with the discorse of the hashtag repeal the 19th. User Samandjunk had the most viral, or perhaps just the most controversial, tweets as they were retweeted many more times than the next highest user. User JenTromans had the higherst in-strength of 48, meaning that they retweeted the most posts of this hashtag.\n",
        "\n",
        "## Discussion\n",
        "I was initially  suprised to see the Samandjunk node with such a high out-strength; however, after consideration a partically constroversial tweet would inspire a cascading series of retweet from both sides as the debate would need a few focal tweets where the discussion actively took place. This was a very interesting look at a real world network.\n"
      ],
      "metadata": {
        "id": "CL4_WDbOzkGK"
      }
    },
    {
      "cell_type": "markdown",
      "source": [],
      "metadata": {
        "id": "mgjXkV6U202i"
      }
    },
    {
      "cell_type": "code",
      "source": [
        "print(D.number_of_nodes())\n",
        "print(D.number_of_edges())\n",
        "\n",
        "print('top 2 out:', max_degree_dir(D, top_2=True ))\n",
        "print('top 2 in:', max_degree_dir(D, out = False))\n"
      ],
      "metadata": {
        "colab": {
          "base_uri": "https://localhost:8080/"
        },
        "id": "QcDVX__EeQNi",
        "outputId": "4a3423ee-8095-4497-936f-876e872a2812"
      },
      "execution_count": 6,
      "outputs": [
        {
          "output_type": "stream",
          "name": "stdout",
          "text": [
            "14862\n",
            "14795\n",
            "top 2 out: ('Samandjunk', 900, 'm_kaish_esq', 394)\n",
            "top 2 in: ('JenTromans', 48)\n"
          ]
        }
      ]
    }
  ]
}